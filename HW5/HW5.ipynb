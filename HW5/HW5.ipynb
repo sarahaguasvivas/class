{
 "cells": [
  {
   "cell_type": "markdown",
   "metadata": {},
   "source": [
    "## HW 5: Darcy's Law (FEM)"
   ]
  },
  {
   "cell_type": "code",
   "execution_count": 212,
   "metadata": {
    "collapsed": true
   },
   "outputs": [],
   "source": [
    "import numpy\n",
    "from matplotlib import pyplot\n",
    "import pygmsh\n",
    "import scipy.sparse as sp\n",
    "import scipy.sparse.linalg\n",
    "from scipy.optimize import fsolve"
   ]
  },
  {
   "cell_type": "markdown",
   "metadata": {
    "collapsed": true
   },
   "source": [
    "We **attempt** to consider steady-state flow in a fully saturated porous medium.  We will assume constant porosity and viscosity for simplicity, leading to [Darcy's law](https://en.wikipedia.org/wiki/Darcy%27s_law) producing a flux\n",
    "$$ q = -\\kappa \\nabla p $$\n",
    "in terms of pressure $p$ and permeability $\\kappa$.\n",
    "Conservation of mass yields a Laplacian\n",
    "$$ \\nabla\\cdot q = -\\nabla\\cdot \\big( \\kappa \\nabla p \\big) = 0 . $$\n",
    "The velocity of the fluid is\n",
    "$$ u = \\frac q \\phi $$\n",
    "where $\\phi \\in (0,1]$ is porosity.\n",
    "\n",
    "Our flow will take place on the 2D unit disc with two holes removed\n",
    "$$ \\left\\{ x \\in \\mathbb R^2 : |x|<1, \\big|x-(1/2,0)| > 1/4\\big|, \\big|x-(-1/2,0)| > 1/4\\big|  \\right\\} . $$\n",
    "The outer boundary is Neumann, corresponding to an impermeable boundary.\n",
    "The left \"hole\" is our inejection with a relative pressure of 1 and the right is extraction with a relative pressure of 0.\n",
    "We can solve for pressure as follows."
   ]
  },
  {
   "cell_type": "code",
   "execution_count": 255,
   "metadata": {
    "collapsed": true
   },
   "outputs": [],
   "source": [
    "def fsolve_newton(F, J, u0, rtol=1e-10, maxit=50, verbose=False):\n",
    "    u = u0.copy()\n",
    "    Fu = F(u)\n",
    "    norm0 = numpy.linalg.norm(Fu)\n",
    "    for i in range(maxit):\n",
    "        du = sp.linalg.spsolve(J(u), -Fu)\n",
    "        u += du\n",
    "        Fu = F(u)\n",
    "        norm = numpy.linalg.norm(Fu)\n",
    "        if verbose:\n",
    "            print('Newton {:d} anorm {:6.2e} rnorm {:6.2e}'.\n",
    "                  format(i+1, norm, norm/norm0))\n",
    "        if norm < rtol * norm0:\n",
    "            break\n",
    "    return u, i"
   ]
  },
  {
   "cell_type": "code",
   "execution_count": 256,
   "metadata": {},
   "outputs": [],
   "source": [
    "def tri_quad4():\n",
    "    q = numpy.array([[ -0.10810301816807,   -0.78379396366386  ],\n",
    "                     [ -0.78379396366386,   -0.10810301816807  ],\n",
    "                     [ -0.10810301816807,   -0.10810301816807  ],\n",
    "                     [-0.816847572980458,   0.633695145960917  ],\n",
    "                     [ 0.633695145960917,  -0.816847572980458  ],\n",
    "                     [-0.816847572980458,  -0.816847572980458  ]])\n",
    "    w = numpy.array([ 0.446763179356023,\n",
    "                      0.446763179356023,\n",
    "                      0.446763179356023,\n",
    "                      0.219903487310644,\n",
    "                      0.219903487310644,\n",
    "                      0.219903487310644])\n",
    "    return q, w"
   ]
  },
  {
   "cell_type": "code",
   "execution_count": 257,
   "metadata": {
    "collapsed": true
   },
   "outputs": [],
   "source": [
    "#####################################\n",
    "#   I DIDN'T TOUCH THESE FUNCTIONS  #\n",
    "#####################################\n",
    "\n",
    "class Mesh:\n",
    "    def __init__(self, lcar=.5, shape='circle', reshape_boundary=False):\n",
    "        import pygmsh\n",
    "        geom = pygmsh.built_in.Geometry()\n",
    "        if shape == 'circle':\n",
    "            geom.add_circle((0,0,0), 1, lcar)\n",
    "        elif shape == 'rectangle':\n",
    "            geom.add_rectangle(-1, 1, -.5, .5, 0, lcar)\n",
    "        elif shape == 'eyes':\n",
    "            holes = [geom.add_circle((c,0,0), .25, .25*lcar, make_surface=False)\n",
    "                 for c in (-.5, .5)]\n",
    "            geom.add_circle((0,0,0), 1, lcar, holes=holes)\n",
    "        else:\n",
    "            raise RuntimeError('Shape not recognized:', shape)\n",
    "        points, elements, _, _, _ = pygmsh.generate_mesh(geom, verbose=False, dim=2)\n",
    "        vtx = points[:,:2]\n",
    "        tri = elements['triangle']\n",
    "        # Gmsh doesn't guarantee consistent orientation so fix up any inverted elements\n",
    "        orient = numpy.cross(vtx[tri[:,1]] - vtx[tri[:,0]],\n",
    "                             vtx[tri[:,2]] - vtx[tri[:,1]]) < 0\n",
    "        tri[orient] = tri[orient][:,[0,2,1]]\n",
    "        # Create edges\n",
    "        edges = tri[:,[0,1,1,2,2,0]].reshape((-1,2))\n",
    "        edges.sort(axis=1)\n",
    "        ind = numpy.lexsort((edges[:,1], edges[:,0]))\n",
    "        edge2vertex, starts, perm, counts = numpy.unique(edges[ind], axis=0,\n",
    "                        return_index=True, return_inverse=True, return_counts=True)\n",
    "        cell2edge = numpy.empty(len(edges), dtype=int)\n",
    "        cell2edge[ind] = perm\n",
    "        cell2edge = cell2edge.reshape((-1, 3))\n",
    "        edgenumbers, edgecount = numpy.unique(cell2edge.flatten(), return_counts=True)\n",
    "        edgecenter = .5*(vtx[edge2vertex[:,0]] + vtx[edge2vertex[:,1]])\n",
    "        \n",
    "        centroids = (vtx[tri[:,0]] + vtx[tri[:,1]] + vtx[tri[:,2]]) / 3\n",
    "        h = numpy.min(numpy.linalg.norm(numpy.kron([1,1,1], centroids).reshape((-1,2))\n",
    "                                        - edgecenter[cell2edge.flatten()], axis=1))\n",
    "        \n",
    "        # Classify boundaries\n",
    "        bedges = edgenumbers[edgecount == 1]\n",
    "        if shape == 'eyes':\n",
    "            def distance(c, r):\n",
    "                return numpy.abs(numpy.linalg.norm(edgecenter[bedges] - c, axis=1) - r)\n",
    "            mouter = distance((0,0), 1)\n",
    "            mleft = distance((-.5,0), .25)\n",
    "            mright = distance((.5,0), .25)\n",
    "            boundary = dict(outer=bedges[mouter <= numpy.minimum(mleft, mright)],\n",
    "                           left=bedges[mleft <= numpy.minimum(mouter, mright)],\n",
    "                           right=bedges[mright <= numpy.minimum(mleft, mouter)])\n",
    "        else:\n",
    "            boundary = dict(outer=bedges)\n",
    "        \n",
    "        self.vtx = vtx\n",
    "        self.tri = tri\n",
    "        self.edge2vertex = edge2vertex\n",
    "        self.cell2edge = cell2edge\n",
    "        self.edgecenter = edgecenter\n",
    "        self.boundary = boundary\n",
    "        self.shape = shape\n",
    "        self.nvtx = len(vtx)\n",
    "        self.nface = len(edge2vertex)\n",
    "        self.h = h\n",
    "        if reshape_boundary:\n",
    "            self.reshape_boundary()\n",
    "    \n",
    "    def reshape_boundary(self):\n",
    "        def project_to_circle(label, c, r):\n",
    "            edges = self.boundary[label]\n",
    "            x = self.edgecenter[edges]\n",
    "            self.edgecenter[edges] = c + r*(x-c) / numpy.linalg.norm(x-c, axis=1)[:,None]\n",
    "        if self.shape == 'circle':\n",
    "            project_to_circle('outer', (0,0), 1)\n",
    "        elif self.shape == 'eyes':\n",
    "            project_to_circle('outer', (0,0), 1)\n",
    "            project_to_circle('left', (-.5,0), .25)\n",
    "            project_to_circle('right', (.5,0), .25)\n",
    "            \n",
    "    def tri2(self):\n",
    "        _, Erestrict = self.Erestrict(2)\n",
    "        return Erestrict[:,[0,3,5, 1,4,3, 2,5,4, 3,4,5]].reshape(-1,3)\n",
    "    \n",
    "    def Erestrict(self, p):\n",
    "        if p == 1:\n",
    "            return self.vtx, self.tri\n",
    "        elif p == 2:\n",
    "            x = numpy.vstack([self.vtx, self.edgecenter])\n",
    "            Erestrict = numpy.hstack([self.tri, self.nvtx+self.cell2edge])\n",
    "            return x, Erestrict\n",
    "        raise RuntimeError('Not implemented for order', p)\n",
    "    \n",
    "    def Frestrict(self, p):\n",
    "        if p == 1:\n",
    "            return self.edge2vertex\n",
    "        elif p == 2:\n",
    "            return numpy.hstack([self.edge2vertex,\n",
    "                                 self.nvtx + numpy.arange(self.nface)[:,None]])\n",
    "        raise RuntimeError('Not implemented for order', p)\n",
    "    \n",
    "    def plotmesh(self):\n",
    "        pyplot.triplot(self.vtx[:,0], self.vtx[:,1], triangles=self.tri)\n",
    "        x, _ = self.Erestrict(2)\n",
    "        Frestrict = self.Frestrict(2)\n",
    "        for label, faces in self.boundary.items():\n",
    "            xF = x[Frestrict[faces,2]]\n",
    "            pyplot.plot(xF[:,0], xF[:,1], 's', label=label)\n",
    "            xFv = x[Frestrict[faces,:2].flatten()]\n",
    "            pyplot.plot(xFv[:,0], xFv[:,1], '.k')\n",
    "        pyplot.legend()"
   ]
  },
  {
   "cell_type": "code",
   "execution_count": 258,
   "metadata": {
    "collapsed": true
   },
   "outputs": [],
   "source": [
    "#####################################\n",
    "#   I DIDN'T TOUCH THESE FUNCTIONS  #\n",
    "#####################################\n",
    "\n",
    "class fe2tri:\n",
    "    def __init__(self, p):\n",
    "        x1 = numpy.array([[-1, 1], [-1, -1], [1, -1]])\n",
    "        x2 = numpy.array([[-1, 0], [0, -1], [0, 0]])\n",
    "        if p == 1:\n",
    "            x = x1\n",
    "        elif p == 2:\n",
    "            x = numpy.vstack([x1, x2])\n",
    "        self.p = p\n",
    "        self.xref = x\n",
    "        self.q, self.w = tri_quad4() # Could use fewer points for p==1\n",
    "        V, _ = self.prime(x)\n",
    "        Vinv = numpy.linalg.inv(V)\n",
    "        Bprime, Dprime = self.prime(q)\n",
    "        self.B = Bprime @ Vinv\n",
    "        self.D = Dprime @ Vinv\n",
    "\n",
    "    def prime(self, x):\n",
    "        V = numpy.ones((len(x), len(self.xref)))\n",
    "        dV = numpy.zeros((len(x), 2, len(self.xref)))\n",
    "        V[:,1] = x[:,0]\n",
    "        V[:,2] = x[:,1]\n",
    "        # dV[:,2*i] is derivative in x direction, dV[:,2*i+1] is in y-direction\n",
    "        dV[:,0,1] = 1\n",
    "        dV[:,1,2] = 1\n",
    "        if self.p > 1:\n",
    "            V[:,3] = x[:,0]**2\n",
    "            V[:,4] = x[:,0]*x[:,1]\n",
    "            V[:,5] = x[:,1]**2\n",
    "            dV[:,0,3] = 2*x[:,0]\n",
    "            dV[:,0,4] = x[:,1]\n",
    "            dV[:,1,4] = x[:,0]\n",
    "            dV[:,1,5] = 2*x[:,1]\n",
    "        return V, dV\n",
    "    \n",
    "    def meshref(self):\n",
    "        # Mesh for plotting on reference element\n",
    "        x1 = numpy.linspace(-1, 1)\n",
    "        xx, yy = numpy.meshgrid(x1, x1)\n",
    "        for i,y in enumerate(yy):\n",
    "            xx[i] = numpy.linspace(-1, -y[0])\n",
    "        return numpy.vstack([xx.flatten(), yy.flatten()]).T\n",
    "    \n",
    "    def plot(self):\n",
    "        pyplot.plot(self.xref[:,0], self.xref[:,1], 'o')\n",
    "        pyplot.plot(self.q[:,0], self.q[:,1], 's')\n",
    "        pyplot.triplot([-1, -1, 1], [1, -1, -1])\n",
    "        \n",
    "        X = self.meshref()\n",
    "        Vinv = numpy.linalg.inv(self.prime(self.xref)[0])\n",
    "        Bprime = self.prime(X)[0]\n",
    "        B = Bprime @ Vinv\n",
    "        pyplot.figure()\n",
    "        for i in range(6):\n",
    "            from matplotlib import cm\n",
    "            pyplot.subplot(2, 3, i+1)\n",
    "            pyplot.tricontourf(X[:,0], X[:,1], B[:,i], 30, cmap=cm.seismic, vmin=-1, vmax=1)"
   ]
  },
  {
   "cell_type": "code",
   "execution_count": 259,
   "metadata": {},
   "outputs": [],
   "source": [
    "class laplacian2:\n",
    "    def __init__(self, k=1,  exact='1'):\n",
    "        self.k = k\n",
    "        self.exact = getattr(self, 'exact_' + exact)\n",
    "        self.forcing = getattr(self, 'forcing_' + exact)\n",
    "        \n",
    "    def form(self, x, u, Du):\n",
    "        return (self.forcing(x), self.k*Du), ((0, 0), (0, self.k*numpy.eye(2)[None,:,:]))\n",
    "    def exact_1(self, x):\n",
    "        return x[:,0] + x[:,1]\n",
    "    def forcing_1(self, x):\n",
    "        return 0\n",
    "    def exact_2(self, x):\n",
    "        return x[:,0]*x[:,1] + 2*x[:,0]**2 - x[:,1]**2 + x[:,1]\n",
    "    def forcing_2(self, x):\n",
    "        return 2\n",
    "    def exact_warp(self, xx):\n",
    "        from numpy import tanh, exp\n",
    "        k, x, y = self.k, xx[:,0], xx[:,1]\n",
    "        return tanh(k*x) * exp(-4*y**2)\n",
    "    def forcing_warp(self, xx):\n",
    "        from numpy import tanh, exp\n",
    "        k, x, y = self.k, xx[:,0], xx[:,1]\n",
    "        return 2*k**2*(tanh(k*x)**2 - 1)*exp(-4*y**2)*tanh(k*x) + 8*(8*y**2 - 1)*exp(-4*y**2)*tanh(k*x)\n"
   ]
  },
  {
   "cell_type": "markdown",
   "metadata": {
    "collapsed": true
   },
   "source": [
    "Since $q= -\\kappa \\nabla p$, $u= \\frac{-\\kappa \\nabla p}{\\phi}$"
   ]
  },
  {
   "cell_type": "code",
   "execution_count": 278,
   "metadata": {},
   "outputs": [],
   "source": [
    "class laplace2Temperature:\n",
    "    def __init__(self, phi=0.5, k=1,  exact='1'):\n",
    "        self.k = k\n",
    "        self.exact = getattr(self, 'exact_' + exact)\n",
    "        self.forcing = getattr(self, 'forcing_' + exact)\n",
    "        self.phi= phi\n",
    "        \n",
    "    def form(self, x, u, Du, finalD):\n",
    "        return (self.forcing(x), self.k*Du+self.k/self.phi*finalD*(numpy.tile(u,(2,1))).T), ((0, 0), (self.k/self.phi*finalD,numpy.eye(2)[None,:,:]))\n",
    "    def exact_1(self, x):\n",
    "        return x[:,0] + x[:,1]\n",
    "    def forcing_1(self, x):\n",
    "        return 0\n",
    "    def exact_2(self, x):\n",
    "        return x[:,0]*x[:,1] + 2*x[:,0]**2 - x[:,1]**2 + x[:,1]\n",
    "    def forcing_2(self, x):\n",
    "        return 2\n",
    "    def exact_warp(self, xx):\n",
    "        from numpy import tanh, exp\n",
    "        k, x, y = self.k, xx[:,0], xx[:,1]\n",
    "        return tanh(k*x) * exp(-4*y**2)\n",
    "    def forcing_warp(self, xx):\n",
    "        from numpy import tanh, exp\n",
    "        k, x, y = self.k, xx[:,0], xx[:,1]\n",
    "        return 2*k**2*(tanh(k*x)**2 - 1)*exp(-4*y**2)*tanh(k*x) + 8*(8*y**2 - 1)*exp(-4*y**2)*tanh(k*x)\n"
   ]
  },
  {
   "cell_type": "code",
   "execution_count": 279,
   "metadata": {},
   "outputs": [],
   "source": [
    "def fe2_solveTemp(fe, mesh, form, formTemp, dirichlet={}, spy=False):\n",
    "    x, Erestrict = mesh.Erestrict(fe.p)\n",
    "    Frestrict = mesh.Frestrict(fe.p)\n",
    "    Ndof = len(x)\n",
    "    B, D = fe.B, fe.D\n",
    "    xq, W, dXdx = fe2_geom(fe, mesh)\n",
    "    dirichletidx = []\n",
    "    bcmask = numpy.zeros(Ndof, dtype=bool)\n",
    "    for label, func in dirichlet.items():\n",
    "        indices = Frestrict[mesh.boundary[label]].flatten()\n",
    "        dirichletidx.append((label, indices, func))\n",
    "        bcmask[indices] = True\n",
    "    \n",
    "    def project_dirichlet(u): # Affine projector into space satisfying Dirichlet BC\n",
    "        ubc = u.copy()\n",
    "        for label, indices, func in dirichletidx:\n",
    "            ubc[indices] = func(x[indices])\n",
    "        return ubc\n",
    "\n",
    "    def residual(u):\n",
    "        ubc = project_dirichlet(u)\n",
    "        v = u - ubc\n",
    "        for e, E in enumerate(Erestrict):\n",
    "            uE = ubc[E]\n",
    "            uq = B @ uE\n",
    "            Dxuq = numpy.einsum('ixX,iX->ix', dXdx[e], D @ uE)\n",
    "            f, _ = form(xq[e], uq, Dxuq)\n",
    "            \n",
    "            vE = B.T @ (W[e] * f[0]) + numpy.einsum('iXp,ixX,ix->p',\n",
    "                                                    D, dXdx[e], W[e,:,None] * f[1])\n",
    "            vE[bcmask[E]] = 0\n",
    "            v[E] += vE\n",
    "        return v \n",
    "\n",
    "    def jacobian(u):\n",
    "        ubc = project_dirichlet(u)\n",
    "        ai = []\n",
    "        aj = []\n",
    "        aa = []\n",
    "        for e, E in enumerate(Erestrict):\n",
    "            uE = ubc[E]\n",
    "            Dx = numpy.einsum('ixX,iXp->ixp', dXdx[e], D)\n",
    "            _, df = form(xq[e], B @ uE, Dx @ uE)\n",
    "            Ae = (numpy.einsum('qi,q,qj->ij', B, W[e] * df[0][0], B)\n",
    "                  + numpy.einsum('qi,qy,qyj->ij', B, W[e,:,None] * df[0][1], Dx)\n",
    "                  + numpy.einsum('qxi,qx,qj->ij', Dx, W[e,:,None] * df[1][0], B)\n",
    "                  + numpy.einsum('qxi,qxy,qyj->ij', Dx, W[e,:,None,None] * df[1][1], Dx))\n",
    "            Ae[bcmask[E],:] = 0\n",
    "            Ae[:,bcmask[E]] = 0\n",
    "            ai += numpy.outer(E, numpy.ones_like(E)).flatten().tolist()\n",
    "            aj += numpy.outer(numpy.ones_like(E), E).flatten().tolist()\n",
    "            aa += Ae.flatten().tolist()\n",
    "        bcidx = numpy.where(bcmask)[0].tolist()\n",
    "        ai += bcidx\n",
    "        aj += bcidx\n",
    "        aa += numpy.ones_like(bcidx).tolist()\n",
    "        A = sp.csr_matrix((aa, (ai, aj)), shape=(Ndof,Ndof))\n",
    "        if spy:\n",
    "            pyplot.spy(A)\n",
    "        return A\n",
    "    print(\"Solving for p\")\n",
    "    u0 = numpy.zeros(Ndof) # initial guess\n",
    "    u, nit = fsolve_newton(residual, jacobian, u0, verbose=True)\n",
    "    \n",
    "    ubc = project_dirichlet(u)\n",
    "    #To get the gradient of p:\n",
    "    for e, E in enumerate(Erestrict):\n",
    "        uE = ubc[E]\n",
    "        uq = B @ uE\n",
    "        gradP = numpy.einsum('ixX,iX->ix', dXdx[e], D @ uE)\n",
    "    \n",
    "    def residualTemp(temp):\n",
    "        ubc = project_dirichlet(temp)\n",
    "        v = temp - ubc\n",
    "        for e, E in enumerate(Erestrict):\n",
    "            uE = ubc[E]\n",
    "            uqT = B @ uE\n",
    "            DTuq = numpy.einsum('ixX,iX->ix', dXdx[e], D @ uE)\n",
    "            f, _ = formTemp(xq[e], uqT, DTuq, gradP)\n",
    "            \n",
    "            vE = B.T @ (W[e] * f[0]) + numpy.einsum('iXp,ixX,ix->p',\n",
    "                                                    D, dXdx[e], W[e,:,None] * f[1])\n",
    "            vE[bcmask[E]] = 0\n",
    "            v[E] += vE\n",
    "        return v \n",
    "\n",
    "    def jacobianTemp(temp):\n",
    "        ubc = project_dirichlet(temp)\n",
    "        ai = []\n",
    "        aj = []\n",
    "        aa = []\n",
    "        for e, E in enumerate(Erestrict):\n",
    "            uE = ubc[E]\n",
    "            Dx = numpy.einsum('ixX,iXp->ixp', dXdx[e], D)\n",
    "            _, df = formTemp(xq[e], B @ uE, Dx @ uE, gradP)\n",
    "            Ae = (numpy.einsum('qi,q,qj->ij', B, W[e] * df[0][0], B)\n",
    "                  + numpy.einsum('qi,qy,qyj->ij', B, W[e,:,None] * df[0][1], Dx)\n",
    "                  + numpy.einsum('qxi,qx,qj->ij', Dx, W[e,:,None] * df[1][0], B)\n",
    "                  + numpy.einsum('qxi,qxy,qyj->ij', Dx, W[e,:,None,None] * df[1][1], Dx))\n",
    "            Ae[bcmask[E],:] = 0\n",
    "            Ae[:,bcmask[E]] = 0\n",
    "            ai += numpy.outer(E, numpy.ones_like(E)).flatten().tolist()\n",
    "            aj += numpy.outer(numpy.ones_like(E), E).flatten().tolist()\n",
    "            aa += Ae.flatten().tolist()\n",
    "        bcidx = numpy.where(bcmask)[0].tolist()\n",
    "        ai += bcidx\n",
    "        aj += bcidx\n",
    "        aa += numpy.ones_like(bcidx).tolist()\n",
    "        A = sp.csr_matrix((aa, (ai, aj)), shape=(Ndof,Ndof))\n",
    "        if spy:\n",
    "            pyplot.spy(A)\n",
    "        return A\n",
    "    print(\"Solving for Temperature\")\n",
    "    \n",
    "    # Solved for u and returned x, now I need to solve for\n",
    "    # temperature\n",
    "    temp0= numpy.zeros(Ndof)\n",
    "    u0 = numpy.zeros(Ndof) # initial guess\n",
    "    temp, nit = fsolve_newton(residualTemp, jacobianTemp, temp0, verbose=True)\n",
    "    return x, u, temp"
   ]
  },
  {
   "cell_type": "code",
   "execution_count": 280,
   "metadata": {
    "scrolled": true
   },
   "outputs": [
    {
     "name": "stdout",
     "output_type": "stream",
     "text": [
      "    Subdomain boundary inhomogeneous (edge length ratio 4.000). Skipping.\n",
      "Solving for p\n",
      "Newton 1 anorm 1.05e-14 rnorm 9.32e-16\n",
      "Solving for Temperature\n",
      "Newton 1 anorm 1.25e-14 rnorm 1.11e-15\n"
     ]
    },
    {
     "data": {
      "image/png": "[encoded data removed]",
      "text/plain": [
       "<matplotlib.figure.Figure at 0x10a3e8710>"
      ]
     },
     "metadata": {},
     "output_type": "display_data"
    }
   ],
   "source": [
    "q, w = tri_quad4()\n",
    "mesh = Mesh(shape='eyes', reshape_boundary=True)\n",
    "fe = fe2tri(2)\n",
    "prob= laplacian2()\n",
    "probTemp= laplace2Temperature()\n",
    "x, pressure, temperature = fe2_solveTemp(fe, mesh, prob.form,probTemp.form, dict(left=lambda x:0*x[:,0]+1, right=lambda x:0*x[:,0]))\n",
    "pyplot.tricontourf(x[:,0], x[:,1], pressure, triangles=mesh.tri2())\n",
    "pyplot.title('Pressure')\n",
    "pyplot.colorbar();\n",
    "pyplot.show()"
   ]
  },
  {
   "cell_type": "code",
   "execution_count": 286,
   "metadata": {},
   "outputs": [
    {
     "name": "stdout",
     "output_type": "stream",
     "text": [
      "Solving for p\n",
      "Newton 1 anorm 1.05e-14 rnorm 9.32e-16\n",
      "Solving for Temperature\n",
      "Newton 1 anorm 5.29e-13 rnorm 1.82e-14\n"
     ]
    },
    {
     "data": {
      "image/png": "[encoded data removed]",
      "text/plain": [
       "<matplotlib.figure.Figure at 0x10a4fca90>"
      ]
     },
     "metadata": {},
     "output_type": "display_data"
    },
    {
     "name": "stdout",
     "output_type": "stream",
     "text": [
      "Solving for p\n",
      "Newton 1 anorm 1.05e-14 rnorm 9.32e-16\n",
      "Solving for Temperature\n",
      "Newton 1 anorm 2.29e-13 rnorm 1.18e-14\n"
     ]
    },
    {
     "data": {
      "image/png": "[encoded data removed]",
      "text/plain": [
       "<matplotlib.figure.Figure at 0x10ac65978>"
      ]
     },
     "metadata": {},
     "output_type": "display_data"
    },
    {
     "name": "stdout",
     "output_type": "stream",
     "text": [
      "Solving for p\n",
      "Newton 1 anorm 1.05e-14 rnorm 9.32e-16\n",
      "Solving for Temperature\n",
      "Newton 1 anorm 1.78e-14 rnorm 1.57e-15\n"
     ]
    },
    {
     "data": {
      "image/png": "[encoded data removed]",
      "text/plain": [
       "<matplotlib.figure.Figure at 0x10a47ac50>"
      ]
     },
     "metadata": {},
     "output_type": "display_data"
    },
    {
     "name": "stdout",
     "output_type": "stream",
     "text": [
      "Solving for p\n",
      "Newton 1 anorm 1.05e-14 rnorm 9.32e-16\n",
      "Solving for Temperature\n",
      "Newton 1 anorm 1.25e-14 rnorm 1.11e-15\n"
     ]
    },
    {
     "data": {
      "image/png": "[encoded data removed]",
      "text/plain": [
       "<matplotlib.figure.Figure at 0x10ad725c0>"
      ]
     },
     "metadata": {},
     "output_type": "display_data"
    },
    {
     "name": "stdout",
     "output_type": "stream",
     "text": [
      "Solving for p\n",
      "Newton 1 anorm 1.05e-14 rnorm 9.32e-16\n",
      "Solving for Temperature\n",
      "Newton 1 anorm 1.22e-14 rnorm 1.08e-15\n"
     ]
    },
    {
     "data": {
      "image/png": "[encoded data removed]",
      "text/plain": [
       "<matplotlib.figure.Figure at 0x10ad6c208>"
      ]
     },
     "metadata": {},
     "output_type": "display_data"
    }
   ],
   "source": [
    "for phi1 in [3e-3,5e-3, 5e-2, 5e-1, 1]:\n",
    "    probTemp.phi= phi1\n",
    "\n",
    "    x, pressure, temperature = fe2_solveTemp(fe, mesh, prob.form,probTemp.form, dict(left=lambda x:0*x[:,0]+1, right=lambda x:0*x[:,0]))\n",
    "    pyplot.tricontourf(x[:,0], x[:,1], temperature, triangles=mesh.tri2())\n",
    "    pyplot.title('Temperature at Phi= $%.2f$' %phi1)\n",
    "    pyplot.colorbar();\n",
    "    pyplot.show()"
   ]
  },
  {
   "cell_type": "code",
   "execution_count": null,
   "metadata": {
    "collapsed": true
   },
   "outputs": [],
   "source": []
  }
 ],
 "metadata": {
  "kernelspec": {
   "display_name": "Python 3",
   "language": "python",
   "name": "python3"
  },
  "language_info": {
   "codemirror_mode": {
    "name": "ipython",
    "version": 3
   },
   "file_extension": ".py",
   "mimetype": "text/x-python",
   "name": "python",
   "nbconvert_exporter": "python",
   "pygments_lexer": "ipython3",
   "version": "3.6.0"
  }
 },
 "nbformat": 4,
 "nbformat_minor": 2
}
